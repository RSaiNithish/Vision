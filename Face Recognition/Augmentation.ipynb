{
 "cells": [
  {
   "cell_type": "code",
   "execution_count": 3,
   "id": "59627654-a998-44f4-81a8-40c2a8e7bcba",
   "metadata": {},
   "outputs": [],
   "source": [
    "import cv2\n",
    "import numpy as np\n",
    "import matplotlib.pyplot as plt\n",
    "import random\n",
    "import os\n",
    "import tensorflow as tf"
   ]
  },
  {
   "cell_type": "code",
   "execution_count": 4,
   "id": "2b964766-b664-4157-82a8-a0dd1854e6fb",
   "metadata": {},
   "outputs": [],
   "source": [
    "PATH = './data/crop/'"
   ]
  },
  {
   "cell_type": "code",
   "execution_count": 28,
   "id": "a1c551b7-f7ad-4771-869d-45d3ffc74fdb",
   "metadata": {},
   "outputs": [
    {
     "data": {
      "text/plain": [
       "3"
      ]
     },
     "execution_count": 28,
     "metadata": {},
     "output_type": "execute_result"
    }
   ],
   "source": [
    "random.randint(1,5)"
   ]
  },
  {
   "cell_type": "code",
   "execution_count": 9,
   "id": "d0b20c8f-fbd5-41d8-9ba8-7ec127574052",
   "metadata": {},
   "outputs": [],
   "source": [
    "def augment(image_path):\n",
    "    image = cv2.imread(PATH+image_path)\n",
    "    name = image_path.split(\".\")[0]\n",
    "    sizes = random.random(5)\n",
    "    angles = random.sample(range(0,90),5)\n",
    "    rotations = []\n",
    "    flips = []\n",
    "    for angle in angles:\n",
    "        image_center = tuple(np.array(image.shape[1::-1]) / 2)\n",
    "        rot_mat = cv2.getRotationMatrix2D(image_center, angle, 1.0)\n",
    "        result = cv2.warpAffine(image, rot_mat, image.shape[1::-1], flags=cv2.INTER_LINEAR)\n",
    "        cv2.imwrite(f\"data/aug/{name}_{angle}_r.jpg\",result)\n",
    "        rotations.append(result)\n",
    "        cv2.imwrite(f\"data/aug/{name}_{angle}_f.jpg\",flipped)\n",
    "        flips.append(flipped)\n",
    "    \n",
    "        \n",
    "    "
   ]
  },
  {
   "cell_type": "code",
   "execution_count": 29,
   "id": "4a16080b-9279-4036-8b58-2feb81fe35df",
   "metadata": {},
   "outputs": [],
   "source": [
    "def color_distortion(image, s=1.0):\n",
    "    # image is a tensor with value range in [0, 1].\n",
    "    # s is the strength of color distortion.\n",
    "\n",
    "    def color_jitter(x):\n",
    "        # one can also shuffle the order of following augmentations\n",
    "        # each time they are applied.\n",
    "        x = tf.image.random_brightness(x, max_delta=0.8 * s)\n",
    "        x = tf.image.random_contrast(x, lower=1 - 0.8 * s, upper=1 + 0.8 * s)\n",
    "        x = tf.image.random_saturation(x, lower=1 - 0.8 * s, upper=1 + 0.8 * s)\n",
    "        x = tf.image.random_hue(x, max_delta=0.2 * s)\n",
    "        x = tf.clip_by_value(x, 0, 1)\n",
    "        return x\n",
    "\n",
    "    def color_drop(x):\n",
    "        x = tf.image.rgb_to_grayscale(x)\n",
    "        x = tf.tile(x, [1, 1, 3])\n",
    "        return x\n",
    "\n",
    "    rand_ = tf.random.uniform(shape=(), minval=0, maxval=1)\n",
    "    # randomly apply transformation with probability p.\n",
    "    if rand_ < 0.8:\n",
    "        image = color_jitter(image)\n",
    "\n",
    "    rand_ = tf.random.uniform(shape=(), minval=0, maxval=1)\n",
    "    if rand_ < 0.2:\n",
    "        image = color_drop(image)\n",
    "    return image"
   ]
  },
  {
   "cell_type": "code",
   "execution_count": 35,
   "id": "edd580ef-85d4-43f8-8676-b2bbe2f60152",
   "metadata": {},
   "outputs": [],
   "source": [
    "augment(\"sk.jpg\")"
   ]
  },
  {
   "cell_type": "code",
   "execution_count": 6,
   "id": "966b3f77-b6b3-4580-8876-99786b1a290d",
   "metadata": {},
   "outputs": [],
   "source": [
    "list_ = os.listdir(PATH)\n",
    "for file in list_: \n",
    "    augment(file)"
   ]
  },
  {
   "cell_type": "code",
   "execution_count": 9,
   "id": "76eb01f4-e7aa-4d6d-a945-3c367b85495d",
   "metadata": {},
   "outputs": [],
   "source": [
    "image_center = tuple(np.array(image.shape[1::-1]) / 2)\n",
    "rot_mat = cv2.getRotationMatrix2D(image_center, 70, 1.0)\n",
    "result = cv2.warpAffine(image, rot_mat, image.shape[1::-1], flags=cv2.INTER_LINEAR)"
   ]
  },
  {
   "cell_type": "code",
   "execution_count": 10,
   "id": "ca3a3674-4a3f-487d-bc09-6ed096e32530",
   "metadata": {},
   "outputs": [
    {
     "data": {
      "text/plain": [
       "<matplotlib.image.AxesImage at 0x7f3780813730>"
      ]
     },
     "execution_count": 10,
     "metadata": {},
     "output_type": "execute_result"
    },
    {
     "data": {
      "image/png": "[encoded data removed]",
      "text/plain": [
       "<Figure size 432x288 with 1 Axes>"
      ]
     },
     "metadata": {
      "needs_background": "light"
     },
     "output_type": "display_data"
    }
   ],
   "source": [
    "plt.imshow(result)"
   ]
  },
  {
   "cell_type": "code",
   "execution_count": 30,
   "id": "8fffb638-6843-40f0-8b6f-83bc65761ada",
   "metadata": {},
   "outputs": [],
   "source": [
    "img = cv2.imread(\"sk.jpg\")"
   ]
  },
  {
   "cell_type": "code",
   "execution_count": 54,
   "id": "7aa5a36b-45ab-44fa-af36-2bab604ce76d",
   "metadata": {},
   "outputs": [
    {
     "data": {
      "text/plain": [
       "<matplotlib.image.AxesImage at 0x7f8bbc1eabf0>"
      ]
     },
     "execution_count": 54,
     "metadata": {},
     "output_type": "execute_result"
    },
    {
     "data": {
      "image/png": "[encoded data removed]",
      "text/plain": [
       "<Figure size 432x288 with 1 Axes>"
      ]
     },
     "metadata": {
      "needs_background": "light"
     },
     "output_type": "display_data"
    }
   ],
   "source": [
    "plt.imshow(color_distortion(img))"
   ]
  },
  {
   "cell_type": "code",
   "execution_count": 33,
   "id": "2f03dca4-f2a0-4988-bf73-f4e2a933f334",
   "metadata": {},
   "outputs": [
    {
     "data": {
      "text/plain": [
       "<matplotlib.image.AxesImage at 0x7f8bc2164a30>"
      ]
     },
     "execution_count": 33,
     "metadata": {},
     "output_type": "execute_result"
    },
    {
     "data": {
      "image/png": "[encoded data removed]",
      "text/plain": [
       "<Figure size 432x288 with 1 Axes>"
      ]
     },
     "metadata": {
      "needs_background": "light"
     },
     "output_type": "display_data"
    }
   ],
   "source": [
    "plt.imshow(img)"
   ]
  },
  {
   "cell_type": "code",
   "execution_count": null,
   "id": "97c1513f-e146-4ea4-9cf9-085e4eb1d285",
   "metadata": {},
   "outputs": [],
   "source": []
  }
 ],
 "metadata": {
  "kernelspec": {
   "display_name": "Python 3 (ipykernel)",
   "language": "python",
   "name": "python3"
  },
  "language_info": {
   "codemirror_mode": {
    "name": "ipython",
    "version": 3
   },
   "file_extension": ".py",
   "mimetype": "text/x-python",
   "name": "python",
   "nbconvert_exporter": "python",
   "pygments_lexer": "ipython3",
   "version": "3.10.6"
  }
 },
 "nbformat": 4,
 "nbformat_minor": 5
}

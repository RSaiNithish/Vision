{
 "cells": [
  {
   "cell_type": "markdown",
   "id": "2dbbdc80",
   "metadata": {},
   "source": [
    "# Devanagiri Handwritten Character Recognition using CNN\n",
    "## Tensorflow version\n",
    "### Train Accuracy: 99%\n",
    "### Test Accuracy: 91%"
   ]
  },
  {
   "cell_type": "markdown",
   "id": "b2dad04c",
   "metadata": {},
   "source": [
    "## Imports"
   ]
  },
  {
   "cell_type": "code",
   "execution_count": 146,
   "id": "dadf9d91",
   "metadata": {},
   "outputs": [],
   "source": [
    "import pandas as pd\n",
    "import tensorflow as tf\n",
    "import tensorflow_datasets as tfds\n",
    "import numpy as np\n",
    "import cv2\n",
    "import matplotlib.pyplot as plt"
   ]
  },
  {
   "cell_type": "markdown",
   "id": "77d99383",
   "metadata": {},
   "source": [
    "## Data Preparation"
   ]
  },
  {
   "cell_type": "markdown",
   "id": "feca5054",
   "metadata": {},
   "source": [
    "Copy data into new directory according to labels"
   ]
  },
  {
   "cell_type": "code",
   "execution_count": 91,
   "id": "4906979e",
   "metadata": {},
   "outputs": [],
   "source": [
    "import os\n",
    "v = os.listdir(\"./nhcd/consonants/\")\n",
    "for i in v:\n",
    "    os.system(f\"cp -r ./nhcd/consonants/{i} ./nhcd/data/{int(i)+21}\")"
   ]
  },
  {
   "cell_type": "markdown",
   "id": "0350d0e9",
   "metadata": {},
   "source": [
    "Renaming files"
   ]
  },
  {
   "cell_type": "code",
   "execution_count": null,
   "id": "63791722",
   "metadata": {},
   "outputs": [],
   "source": [
    "path = \"./nhcd/data/\"\n",
    "list_ = os.listdir(path)\n",
    "os.chdir(path)\n",
    "for di in list_:\n",
    "    os.chdir(f\"./{di}\")\n",
    "    i = 0\n",
    "    l_ = os.listdir(f\"./\")\n",
    "    for sub in l_:\n",
    "        os.rename(sub,f\"{di}_{i}\")\n",
    "        i+=1\n",
    "    os.chdir(\"..\")\n",
    "        "
   ]
  },
  {
   "cell_type": "code",
   "execution_count": 134,
   "id": "37c41287",
   "metadata": {},
   "outputs": [],
   "source": [
    "list_ = os.listdir('./nhcd/data')"
   ]
  },
  {
   "cell_type": "code",
   "execution_count": 138,
   "id": "33dc11fa",
   "metadata": {},
   "outputs": [],
   "source": [
    "for i in list_:\n",
    "    pa = f'./nhcd/data/{i}'\n",
    "    for j in os.listdir(pa):\n",
    "        shutil.copy(f\"{pa}/{j}\",\"./nhcd/d\")"
   ]
  },
  {
   "cell_type": "markdown",
   "id": "7767fab9",
   "metadata": {},
   "source": [
    "Generating dataset\n"
   ]
  },
  {
   "cell_type": "code",
   "execution_count": 171,
   "id": "8e1d3a42",
   "metadata": {},
   "outputs": [],
   "source": [
    "imgs_ = []\n",
    "labels_ = []\n",
    "files_ = os.listdir('./nhcd/data')\n",
    "for i in files_:\n",
    "    img = cv2.imread(f\"./nhcd/data/{i}\",0)\n",
    "    label = i.split(\"_\")[0]\n",
    "    imgs_.append(img)\n",
    "    labels_.append(int(label))\n",
    "    "
   ]
  },
  {
   "cell_type": "code",
   "execution_count": 172,
   "id": "e71a6798",
   "metadata": {},
   "outputs": [
    {
     "data": {
      "text/plain": [
       "True"
      ]
     },
     "execution_count": 172,
     "metadata": {},
     "output_type": "execute_result"
    }
   ],
   "source": [
    "len(labels_) == len(imgs_)"
   ]
  },
  {
   "cell_type": "markdown",
   "id": "ce4629ce",
   "metadata": {},
   "source": [
    "Creating dataframe"
   ]
  },
  {
   "cell_type": "code",
   "execution_count": 173,
   "id": "bf7922fc",
   "metadata": {},
   "outputs": [],
   "source": [
    "df = pd.DataFrame()\n",
    "df['X'] = imgs_\n",
    "df['y'] = labels_"
   ]
  },
  {
   "cell_type": "code",
   "execution_count": 174,
   "id": "919a840b",
   "metadata": {},
   "outputs": [
    {
     "data": {
      "text/html": [
       "<div>\n",
       "<style scoped>\n",
       "    .dataframe tbody tr th:only-of-type {\n",
       "        vertical-align: middle;\n",
       "    }\n",
       "\n",
       "    .dataframe tbody tr th {\n",
       "        vertical-align: top;\n",
       "    }\n",
       "\n",
       "    .dataframe thead th {\n",
       "        text-align: right;\n",
       "    }\n",
       "</style>\n",
       "<table border=\"1\" class=\"dataframe\">\n",
       "  <thead>\n",
       "    <tr style=\"text-align: right;\">\n",
       "      <th></th>\n",
       "      <th>X</th>\n",
       "      <th>y</th>\n",
       "    </tr>\n",
       "  </thead>\n",
       "  <tbody>\n",
       "    <tr>\n",
       "      <th>0</th>\n",
       "      <td>[[253, 250, 250, 255, 255, 248, 252, 246, 243,...</td>\n",
       "      <td>0</td>\n",
       "    </tr>\n",
       "    <tr>\n",
       "      <th>1</th>\n",
       "      <td>[[253, 255, 252, 241, 255, 255, 247, 251, 255,...</td>\n",
       "      <td>0</td>\n",
       "    </tr>\n",
       "    <tr>\n",
       "      <th>2</th>\n",
       "      <td>[[239, 255, 245, 255, 255, 248, 255, 249, 242,...</td>\n",
       "      <td>0</td>\n",
       "    </tr>\n",
       "    <tr>\n",
       "      <th>3</th>\n",
       "      <td>[[255, 251, 243, 255, 238, 241, 251, 120, 59, ...</td>\n",
       "      <td>0</td>\n",
       "    </tr>\n",
       "    <tr>\n",
       "      <th>4</th>\n",
       "      <td>[[243, 255, 239, 255, 254, 236, 230, 155, 82, ...</td>\n",
       "      <td>0</td>\n",
       "    </tr>\n",
       "  </tbody>\n",
       "</table>\n",
       "</div>"
      ],
      "text/plain": [
       "                                                   X  y\n",
       "0  [[253, 250, 250, 255, 255, 248, 252, 246, 243,...  0\n",
       "1  [[253, 255, 252, 241, 255, 255, 247, 251, 255,...  0\n",
       "2  [[239, 255, 245, 255, 255, 248, 255, 249, 242,...  0\n",
       "3  [[255, 251, 243, 255, 238, 241, 251, 120, 59, ...  0\n",
       "4  [[243, 255, 239, 255, 254, 236, 230, 155, 82, ...  0"
      ]
     },
     "execution_count": 174,
     "metadata": {},
     "output_type": "execute_result"
    }
   ],
   "source": [
    "df.head()"
   ]
  },
  {
   "cell_type": "markdown",
   "id": "7d8a134d",
   "metadata": {},
   "source": [
    "## EDA"
   ]
  },
  {
   "cell_type": "code",
   "execution_count": 175,
   "id": "11dd2b55",
   "metadata": {},
   "outputs": [
    {
     "data": {
      "text/plain": [
       "0"
      ]
     },
     "execution_count": 175,
     "metadata": {},
     "output_type": "execute_result"
    },
    {
     "data": {
      "image/png": "[encoded data removed]",
      "text/plain": [
       "<Figure size 432x288 with 1 Axes>"
      ]
     },
     "metadata": {
      "needs_background": "light"
     },
     "output_type": "display_data"
    }
   ],
   "source": [
    "plt.imshow(imgs_[0])\n",
    "labels_[0]"
   ]
  },
  {
   "cell_type": "code",
   "execution_count": 176,
   "id": "707d8b64",
   "metadata": {},
   "outputs": [
    {
     "data": {
      "text/plain": [
       "(28, 28)"
      ]
     },
     "execution_count": 176,
     "metadata": {},
     "output_type": "execute_result"
    }
   ],
   "source": [
    "imgs_[0].shape"
   ]
  },
  {
   "cell_type": "markdown",
   "id": "d31e3e51",
   "metadata": {},
   "source": [
    "## Data spliting"
   ]
  },
  {
   "cell_type": "code",
   "execution_count": null,
   "id": "7996cb34",
   "metadata": {},
   "outputs": [],
   "source": [
    "from sklearn.model_selection import train_test_split\n",
    "\n",
    "train, test = train_test_split(df, test_size=0.2)\n",
    "Xtrain = tf.convert_to_tensor(list(train['X']))\n",
    "ytrain = tf.convert_to_tensor(list(train['y']))\n",
    "Xtest = tf.convert_to_tensor(list(test['X']))\n",
    "ytest = tf.convert_to_tensor(list(test['y']))"
   ]
  },
  {
   "cell_type": "markdown",
   "id": "52c30859",
   "metadata": {},
   "source": [
    "## Model building"
   ]
  },
  {
   "cell_type": "code",
   "execution_count": 212,
   "id": "c11762cd",
   "metadata": {},
   "outputs": [],
   "source": [
    "model = tf.keras.Sequential([\n",
    "                tf.keras.layers.Conv2D(32, (3,3), padding='same', activation=tf.nn.relu, input_shape=(28,28,1)),\n",
    "                tf.keras.layers.MaxPooling2D((2,2), strides=2),\n",
    "                tf.keras.layers.Conv2D(64, (3,3), padding='same', activation=tf.nn.relu),\n",
    "                tf.keras.layers.MaxPooling2D((2,2),strides=2),\n",
    "                tf.keras.layers.Conv2D(128, (3,3), padding='same', activation=tf.nn.relu),\n",
    "                tf.keras.layers.MaxPooling2D((2,2),strides=2),\n",
    "                tf.keras.layers.Flatten(),\n",
    "                tf.keras.layers.Dense(512, activation=tf.nn.relu),\n",
    "                tf.keras.layers.Dense(256, activation=tf.nn.relu),\n",
    "                tf.keras.layers.Dense(58, activation=tf.nn.softmax)\n",
    "])"
   ]
  },
  {
   "cell_type": "code",
   "execution_count": 213,
   "id": "c4acac95",
   "metadata": {},
   "outputs": [],
   "source": [
    "model.compile(optimizer='adam',\n",
    "              loss=tf.keras.losses.SparseCategoricalCrossentropy(),\n",
    "              metrics=['Accuracy'])"
   ]
  },
  {
   "cell_type": "markdown",
   "id": "94fd3919",
   "metadata": {},
   "source": [
    "## Training"
   ]
  },
  {
   "cell_type": "code",
   "execution_count": 214,
   "id": "6da86973",
   "metadata": {},
   "outputs": [
    {
     "name": "stdout",
     "output_type": "stream",
     "text": [
      "Epoch 1/30\n",
      "81/81 [==============================] - 6s 69ms/step - loss: 7.3169 - Accuracy: 0.1416\n",
      "Epoch 2/30\n",
      "81/81 [==============================] - 6s 70ms/step - loss: 1.3624 - Accuracy: 0.6082\n",
      "Epoch 3/30\n",
      "81/81 [==============================] - 6s 73ms/step - loss: 0.6560 - Accuracy: 0.8028\n",
      "Epoch 4/30\n",
      "81/81 [==============================] - 6s 71ms/step - loss: 0.4023 - Accuracy: 0.8738\n",
      "Epoch 5/30\n",
      "81/81 [==============================] - 6s 71ms/step - loss: 0.2682 - Accuracy: 0.9161\n",
      "Epoch 6/30\n",
      "81/81 [==============================] - 6s 69ms/step - loss: 0.1811 - Accuracy: 0.9417\n",
      "Epoch 7/30\n",
      "81/81 [==============================] - 7s 85ms/step - loss: 0.1065 - Accuracy: 0.9649\n",
      "Epoch 8/30\n",
      "81/81 [==============================] - 6s 71ms/step - loss: 0.0698 - Accuracy: 0.9784\n",
      "Epoch 9/30\n",
      "81/81 [==============================] - 6s 71ms/step - loss: 0.0373 - Accuracy: 0.9898\n",
      "Epoch 10/30\n",
      "81/81 [==============================] - 6s 72ms/step - loss: 0.0284 - Accuracy: 0.9924\n",
      "Epoch 11/30\n",
      "81/81 [==============================] - 6s 70ms/step - loss: 0.0272 - Accuracy: 0.9924\n",
      "Epoch 12/30\n",
      "81/81 [==============================] - 6s 74ms/step - loss: 0.0723 - Accuracy: 0.9769\n",
      "Epoch 13/30\n",
      "81/81 [==============================] - 6s 71ms/step - loss: 0.0879 - Accuracy: 0.9710\n",
      "Epoch 14/30\n",
      "81/81 [==============================] - 6s 71ms/step - loss: 0.0687 - Accuracy: 0.9774\n",
      "Epoch 15/30\n",
      "81/81 [==============================] - 6s 71ms/step - loss: 0.0704 - Accuracy: 0.9783\n",
      "Epoch 16/30\n",
      "81/81 [==============================] - 6s 71ms/step - loss: 0.0371 - Accuracy: 0.9867\n",
      "Epoch 17/30\n",
      "81/81 [==============================] - 6s 71ms/step - loss: 0.0238 - Accuracy: 0.9926\n",
      "Epoch 18/30\n",
      "81/81 [==============================] - 6s 71ms/step - loss: 0.0435 - Accuracy: 0.9868\n",
      "Epoch 19/30\n",
      "81/81 [==============================] - 6s 70ms/step - loss: 0.0323 - Accuracy: 0.9895\n",
      "Epoch 20/30\n",
      "81/81 [==============================] - 6s 70ms/step - loss: 0.0282 - Accuracy: 0.9908\n",
      "Epoch 21/30\n",
      "81/81 [==============================] - 6s 72ms/step - loss: 0.0398 - Accuracy: 0.9868\n",
      "Epoch 22/30\n",
      "81/81 [==============================] - 6s 70ms/step - loss: 0.0577 - Accuracy: 0.9816\n",
      "Epoch 23/30\n",
      "81/81 [==============================] - 6s 73ms/step - loss: 0.0444 - Accuracy: 0.9856\n",
      "Epoch 24/30\n",
      "81/81 [==============================] - 6s 72ms/step - loss: 0.0348 - Accuracy: 0.9888\n",
      "Epoch 25/30\n",
      "81/81 [==============================] - 6s 71ms/step - loss: 0.0560 - Accuracy: 0.9839\n",
      "Epoch 26/30\n",
      "81/81 [==============================] - 6s 70ms/step - loss: 0.0502 - Accuracy: 0.9831\n",
      "Epoch 27/30\n",
      "81/81 [==============================] - 6s 71ms/step - loss: 0.0387 - Accuracy: 0.9881\n",
      "Epoch 28/30\n",
      "81/81 [==============================] - 6s 75ms/step - loss: 0.0256 - Accuracy: 0.9924\n",
      "Epoch 29/30\n",
      "81/81 [==============================] - 6s 70ms/step - loss: 0.0232 - Accuracy: 0.9930\n",
      "Epoch 30/30\n",
      "81/81 [==============================] - 6s 70ms/step - loss: 0.0078 - Accuracy: 0.9977\n"
     ]
    },
    {
     "data": {
      "text/plain": [
       "<keras.callbacks.History at 0x7f394829d720>"
      ]
     },
     "execution_count": 214,
     "metadata": {},
     "output_type": "execute_result"
    }
   ],
   "source": [
    "model.fit(Xtrain, ytrain, epochs=30,batch_size = 128)"
   ]
  },
  {
   "cell_type": "code",
   "execution_count": 215,
   "id": "af3adfd2",
   "metadata": {},
   "outputs": [
    {
     "name": "stdout",
     "output_type": "stream",
     "text": [
      "81/81 [==============================] - 1s 6ms/step - loss: 0.4999 - Accuracy: 0.9141\n",
      "Accuracy on test dataset: 0.9140534400939941\n"
     ]
    }
   ],
   "source": [
    "test_loss, test_accuracy = model.evaluate(Xtest,ytest)\n",
    "print(f'Accuracy on test dataset: {test_accuracy}')"
   ]
  },
  {
   "cell_type": "markdown",
   "id": "f3c5e5dd",
   "metadata": {},
   "source": [
    "## Prediction"
   ]
  },
  {
   "cell_type": "code",
   "execution_count": 216,
   "id": "c6fe89db",
   "metadata": {},
   "outputs": [
    {
     "name": "stdout",
     "output_type": "stream",
     "text": [
      "81/81 [==============================] - 1s 6ms/step\n"
     ]
    }
   ],
   "source": [
    "predictions = model.predict(Xtest)"
   ]
  },
  {
   "cell_type": "markdown",
   "id": "635333b9",
   "metadata": {},
   "source": [
    "## Testing"
   ]
  },
  {
   "cell_type": "code",
   "execution_count": 217,
   "id": "8316281c",
   "metadata": {},
   "outputs": [],
   "source": [
    "def test(n):\n",
    "    plt.imshow(Xtest[n], cmap='gray')\n",
    "    plt.title(\"Input image\")\n",
    "    plt.xticks([])\n",
    "    plt.yticks([])\n",
    "    plt.show()\n",
    "    print(\"Ground truth class:\",end=\"\")\n",
    "    tf.print(ytest[n])\n",
    "    print(f\"Predicted class: {np.argmax(predictions[n])}\")\n",
    "    "
   ]
  },
  {
   "cell_type": "code",
   "execution_count": 218,
   "id": "396bf2ee",
   "metadata": {},
   "outputs": [
    {
     "data": {
      "image/png": "[encoded data removed]",
      "text/plain": [
       "<Figure size 432x288 with 1 Axes>"
      ]
     },
     "metadata": {},
     "output_type": "display_data"
    },
    {
     "name": "stdout",
     "output_type": "stream",
     "text": [
      "Ground truth class:1\n",
      "Predicted class: 1\n"
     ]
    }
   ],
   "source": [
    "test(6)"
   ]
  },
  {
   "cell_type": "code",
   "execution_count": null,
   "id": "a25ec336",
   "metadata": {},
   "outputs": [],
   "source": []
  }
 ],
 "metadata": {
  "kernelspec": {
   "display_name": "Python 3 (ipykernel)",
   "language": "python",
   "name": "python3"
  },
  "language_info": {
   "codemirror_mode": {
    "name": "ipython",
    "version": 3
   },
   "file_extension": ".py",
   "mimetype": "text/x-python",
   "name": "python",
   "nbconvert_exporter": "python",
   "pygments_lexer": "ipython3",
   "version": "3.10.6"
  }
 },
 "nbformat": 4,
 "nbformat_minor": 5
}
